{
 "cells": [
  {
   "cell_type": "code",
   "execution_count": 1,
   "metadata": {},
   "outputs": [],
   "source": [
    "# Importing libraries\n",
    "import numpy as np\n",
    "import pandas as pd\n",
    "import matplotlib.pyplot as plt\n",
    "import seaborn as sns\n",
    "\n",
    "#Set the output length\n",
    "pd.options.display.max_rows = 500"
   ]
  },
  {
   "cell_type": "code",
   "execution_count": 2,
   "metadata": {},
   "outputs": [],
   "source": [
    "df_chunk = pd.read_csv(\"venmo.csv\", nrows = 5000000, chunksize=100000, low_memory=False)"
   ]
  },
  {
   "cell_type": "code",
   "execution_count": 3,
   "metadata": {},
   "outputs": [],
   "source": [
    "#Utils functions\n",
    "def drop_empty_columns(data):\n",
    "    \n",
    "    fraction = 0.1\n",
    "    missing_columns = data.isnull().sum()\n",
    "    filled_columns = missing_columns[missing_columns < fraction * len(data)]\n",
    "    empty_columns = missing_columns[missing_columns > fraction * len(data)]\n",
    "    filled_columns_list = list(filled_columns.index)\n",
    "    empty_columns_list = list(empty_columns.index)\n",
    "    data.drop(empty_columns_list, axis = 1, inplace=True)\n",
    "    \n",
    "    return (data)"
   ]
  },
  {
   "cell_type": "code",
   "execution_count": 4,
   "metadata": {},
   "outputs": [
    {
     "name": "stdout",
     "output_type": "stream",
     "text": [
      "0\n",
      "1\n",
      "2\n",
      "3\n",
      "4\n",
      "5\n",
      "6\n",
      "7\n",
      "8\n",
      "9\n",
      "10\n",
      "11\n",
      "12\n",
      "13\n",
      "14\n",
      "15\n",
      "16\n",
      "17\n",
      "18\n",
      "19\n",
      "20\n",
      "21\n",
      "22\n",
      "23\n",
      "24\n",
      "25\n",
      "26\n",
      "27\n",
      "28\n",
      "29\n",
      "30\n",
      "31\n",
      "32\n",
      "33\n",
      "34\n",
      "35\n",
      "36\n",
      "37\n",
      "38\n",
      "39\n",
      "40\n",
      "41\n",
      "42\n",
      "43\n",
      "44\n",
      "45\n",
      "46\n",
      "47\n",
      "48\n",
      "49\n"
     ]
    }
   ],
   "source": [
    "chunk_list = []\n",
    "list_of_columns = [] #this variable stores the filled_columns list of each chunk. \n",
    "i = 0\n",
    "\n",
    "for chunk in df_chunk:\n",
    "    dropped_chunk = drop_empty_columns(chunk)\n",
    "    list_of_columns.append(list(dropped_chunk.columns))\n",
    "    chunk_list.append(dropped_chunk)\n",
    "    print(i)\n",
    "    i = i + 1"
   ]
  },
  {
   "cell_type": "code",
   "execution_count": 5,
   "metadata": {},
   "outputs": [
    {
     "data": {
      "text/plain": [
       "pandas.core.frame.DataFrame"
      ]
     },
     "execution_count": 5,
     "metadata": {},
     "output_type": "execute_result"
    }
   ],
   "source": [
    "type(chunk_list[0])"
   ]
  },
  {
   "cell_type": "code",
   "execution_count": 8,
   "metadata": {},
   "outputs": [],
   "source": [
    "#Check whether each element in list_of_columns is the same.\n",
    "i = 0;\n",
    "for i in range(len(list_of_columns) - 1):\n",
    "    if (list_of_columns[i] != list_of_columns[i + 1]):\n",
    "        print(\"not equals at i = {}\".format(i))\n",
    "\n",
    "#This means that the columns who are empty are the same in each chunk. "
   ]
  },
  {
   "cell_type": "code",
   "execution_count": 10,
   "metadata": {},
   "outputs": [
    {
     "name": "stdout",
     "output_type": "stream",
     "text": [
      "['_id', 'date_updated', 'app.description', 'app.image_url', 'app.id', 'app.name', 'comments.count', 'payment.status', 'payment.id', 'payment.date_completed', 'payment.target.user.username', 'payment.target.user.last_name', 'payment.target.user.is_group', 'payment.target.user.is_active', 'payment.target.user.profile_picture_url', 'payment.target.user.is_blocked', 'payment.target.user.id', 'payment.target.user.date_joined', 'payment.target.user.display_name', 'payment.target.user.first_name', 'payment.target.type', 'payment.audience', 'payment.actor.username', 'payment.actor.last_name', 'payment.actor.is_group', 'payment.actor.is_active', 'payment.actor.profile_picture_url', 'payment.actor.is_blocked', 'payment.actor.id', 'payment.actor.date_joined', 'payment.actor.display_name', 'payment.actor.first_name', 'payment.note', 'payment.action', 'payment.date_created', 'note', 'audience', 'likes.count', 'mentions.count', 'date_created', 'type', 'id']\n",
      "\n",
      "\n",
      "['_id', 'date_updated', 'app.description', 'app.image_url', 'app.id', 'app.name', 'comments.count', 'payment.status', 'payment.id', 'payment.date_completed', 'payment.target.user.username', 'payment.target.user.last_name', 'payment.target.user.is_group', 'payment.target.user.is_active', 'payment.target.user.profile_picture_url', 'payment.target.user.is_blocked', 'payment.target.user.id', 'payment.target.user.date_joined', 'payment.target.user.display_name', 'payment.target.user.first_name', 'payment.target.type', 'payment.audience', 'payment.actor.username', 'payment.actor.last_name', 'payment.actor.is_group', 'payment.actor.is_active', 'payment.actor.profile_picture_url', 'payment.actor.is_blocked', 'payment.actor.id', 'payment.actor.date_joined', 'payment.actor.display_name', 'payment.actor.first_name', 'payment.note', 'payment.action', 'payment.date_created', 'note', 'audience', 'likes.count', 'mentions.count', 'date_created', 'type', 'id']\n"
     ]
    }
   ],
   "source": [
    "print(list_of_columns[0])\n",
    "print(\"\\n\")\n",
    "print(list_of_columns[1])"
   ]
  },
  {
   "cell_type": "code",
   "execution_count": 11,
   "metadata": {},
   "outputs": [
    {
     "data": {
      "text/plain": [
       "42"
      ]
     },
     "execution_count": 11,
     "metadata": {},
     "output_type": "execute_result"
    }
   ],
   "source": [
    "len(list_of_columns[1])"
   ]
  },
  {
   "cell_type": "code",
   "execution_count": null,
   "metadata": {},
   "outputs": [],
   "source": []
  }
 ],
 "metadata": {
  "kernelspec": {
   "display_name": "Python (venmo_data_analysis)",
   "language": "python",
   "name": "venmo_data_analysis"
  },
  "language_info": {
   "codemirror_mode": {
    "name": "ipython",
    "version": 3
   },
   "file_extension": ".py",
   "mimetype": "text/x-python",
   "name": "python",
   "nbconvert_exporter": "python",
   "pygments_lexer": "ipython3",
   "version": "3.7.9"
  }
 },
 "nbformat": 4,
 "nbformat_minor": 4
}
